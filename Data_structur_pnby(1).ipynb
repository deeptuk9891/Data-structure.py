{
  "nbformat": 4,
  "nbformat_minor": 0,
  "metadata": {
    "colab": {
      "provenance": []
    },
    "kernelspec": {
      "name": "python3",
      "display_name": "Python 3"
    },
    "language_info": {
      "name": "python"
    }
  },
  "cells": [
    {
      "cell_type": "code",
      "source": [],
      "metadata": {
        "id": "OJJ2ppmx2UOr"
      },
      "execution_count": null,
      "outputs": []
    },
    {
      "cell_type": "markdown",
      "source": [
        "DATA **STRUCTURE**\n"
      ],
      "metadata": {
        "id": "qL8KVdtfeIYB"
      }
    },
    {
      "cell_type": "code",
      "source": [],
      "metadata": {
        "id": "Smc5_QE8eZ3V"
      },
      "execution_count": null,
      "outputs": []
    },
    {
      "cell_type": "markdown",
      "source": [
        "  1. What are data structures, and why are they important?\n",
        "     - data structure>way of organizing and storing data so that it can be acccessed and manipulated effeciently\n",
        "  2. Explain the difference between mutable and immutable data types with examples?\n",
        "     -mutable data types can be modify values like list, sets,dist.\n",
        "     list = [1,2,3,4]\n",
        "     list = list[0] = 100 can be modify\n",
        "     immutable data types can not modify like tupes\n",
        "     t = (1,2,3,4)\n",
        "     t = t(0) = 100 can not modify\n",
        "  3. What are the main differences between lists and tuples in Python?\n",
        "     - lists is modify and tuples are not modify.\n",
        "  4.  Describe how dictionaries store data?\n",
        "      - Dictionaries which stores the data in the form of key value pair.\n",
        "  5. Why might you use a set instead of a list in Python?\n",
        "     -  sets are no take duplicates value in lists.\n",
        "  6.  What is a string in Python, and how is it different from a list?\n",
        "     - string is sequence of data his represent manipulagting character of data\n",
        "     list are ordered collection of items.\n",
        "  7. How do tuples ensure data integrity in Python?\n",
        "     - Because tupes are immutable once data store they cannot change data value that called tuples integrity in python.\n",
        "  8.   What is a hash table, and how does it relate to dictionaries in Python?\n",
        "      - A hash table is a data structure that allows you to store a collection of key-value pairs.\n",
        "  9. Can lists contain different data types in Python?\n",
        "      -  a list can also contain a mix of Python types including strings, floats, and booleans.\n",
        "  10.  Explain why strings are immutable in Python?\n",
        "      - because strings behave like a tuples.\n",
        "  11.  What advantages do dictionaries offer over lists for certain tasks?\n",
        "\n",
        "      - Due to the above difference between lists and dictionaries getting the elements from the list data structure is more complex when compared to dictionaries. So it is more efficient to use dictionaries for the searching of elements as it can be carried out in a much faster manner.\n",
        "  12. Describe a scenario where using a tuple would be preferable over a list?    \n",
        "      - Use a tuple if you need an immutable collection where the elements won't change after creation. Tuples are generally faster and more memory-efficient than lists.\n",
        "   13.  How do sets handle duplicate values in Python?\n",
        "      -  Items of a set in python are immutable (unchangeable), do not duplicate values, and unordered.\n",
        "   14.    How does the “in” keyword work differently for lists and dictionaries?      \n",
        "      -  dictionary values can be duplicated like a list.\n",
        "      list can be taken milk in list but dictionary cannot take in because his take key values.\n",
        "    15.  Can you modify the elements of a tuple? Explain why or why not?\n",
        "       - no tuples can not modifye ones created, tuple are unmutable.\n",
        "     16.  What is a nested dictionary, and give an example of its use case?  \n",
        "       - In Python, a nested dictionary is a dictionary inside a dictionary. It's a collection of dictionaries into one single dictionary. Here, the nested_dict is a nested dictionary.\n",
        "\n",
        "    17.  Describe the time complexity of accessing elements in a dictionary?\n",
        "      - he time complexity of retrieving a value by its key in a dictionary is O(1). This is because dictionaries use a hash table internally which allows constant time lookup.\n",
        "       like = {'a': 1, 'b': 2,}\n",
        "       val =  like['b]\n",
        "       print(value)\n",
        "       2\n",
        "    18.  In what situations are lists preferred over dictionaries?\n",
        "       - dictionaries For ordered collections and sequence operations, such as maintaining a stack or queue, lists are more suitable.\n",
        "    19.  Why are dictionaries considered unordered, and how does that affect data retrieval?\n",
        "       - Dictionary is a data structure which is a important value structure, optimized for fast storage and recovery based on key. In python, dictionaries are un-ordered because Python dictionaries are not intended to be in order, as simple as that.\n",
        "    20. P Explain the difference between a list and a dictionary in terms of data retrieval.\n",
        "       - A list refers to a collection of various index value pairs like that in the case of an array in C++. A dictionary refers to a hashed structure of various pairs of keys and values\n",
        "       \n",
        "       \n",
        "    "
      ],
      "metadata": {
        "id": "TaxCzm47dwZ1"
      }
    },
    {
      "cell_type": "markdown",
      "source": [],
      "metadata": {
        "id": "OyB6GXK4wDdT"
      }
    },
    {
      "cell_type": "markdown",
      "source": [
        "\n",
        "\n",
        "> Add blockquote\n",
        "\n"
      ],
      "metadata": {
        "id": "mn15b9Rsed7O"
      }
    },
    {
      "cell_type": "code",
      "execution_count": 2,
      "metadata": {
        "colab": {
          "base_uri": "https://localhost:8080/"
        },
        "id": "5Ek1qf5DCmbO",
        "outputId": "4e1c73e0-a6cf-47f2-e0bf-2c731546310f"
      },
      "outputs": [
        {
          "output_type": "stream",
          "name": "stdout",
          "text": [
            "deepak\n"
          ]
        }
      ],
      "source": [
        "name  = (\"deepak\")\n",
        "print(name)"
      ]
    },
    {
      "cell_type": "code",
      "source": [
        "type(name)"
      ],
      "metadata": {
        "colab": {
          "base_uri": "https://localhost:8080/"
        },
        "id": "cKH2H01ywa-D",
        "outputId": "1c7f9085-aa8d-41eb-865a-bdec6c97617a"
      },
      "execution_count": 3,
      "outputs": [
        {
          "output_type": "execute_result",
          "data": {
            "text/plain": [
              "str"
            ]
          },
          "metadata": {},
          "execution_count": 3
        }
      ]
    },
    {
      "cell_type": "code",
      "source": [
        "name = \"hello world\"\n",
        "len(name)\n",
        "\n"
      ],
      "metadata": {
        "colab": {
          "base_uri": "https://localhost:8080/"
        },
        "id": "6iGvFGk9whOT",
        "outputId": "15b9f857-656e-41c6-c044-af9f347516eb"
      },
      "execution_count": 4,
      "outputs": [
        {
          "output_type": "execute_result",
          "data": {
            "text/plain": [
              "11"
            ]
          },
          "metadata": {},
          "execution_count": 4
        }
      ]
    },
    {
      "cell_type": "markdown",
      "source": [
        "# Write a code to slice the first 3 characters from the string \"Python Programming\""
      ],
      "metadata": {
        "id": "2MWvpNne7z-0"
      }
    },
    {
      "cell_type": "code",
      "source": [
        "name = \"deepak\"\n",
        "name[0:3]"
      ],
      "metadata": {
        "colab": {
          "base_uri": "https://localhost:8080/",
          "height": 35
        },
        "id": "l--p9IBs8PGW",
        "outputId": "0af48652-b98a-437f-d527-48a88b061e2b"
      },
      "execution_count": 1,
      "outputs": [
        {
          "output_type": "execute_result",
          "data": {
            "text/plain": [
              "'dee'"
            ],
            "application/vnd.google.colaboratory.intrinsic+json": {
              "type": "string"
            }
          },
          "metadata": {},
          "execution_count": 1
        }
      ]
    },
    {
      "cell_type": "markdown",
      "source": [
        " Write a code to convert the string \"hello\" to uppercase?"
      ],
      "metadata": {
        "id": "zSA_2ZVJ8oed"
      }
    },
    {
      "cell_type": "code",
      "source": [
        "name = \"hello\"\n",
        "name.upper()"
      ],
      "metadata": {
        "colab": {
          "base_uri": "https://localhost:8080/",
          "height": 35
        },
        "id": "kL0UnyF0833f",
        "outputId": "c63b945a-2ddc-49a9-8618-1fa3fa735188"
      },
      "execution_count": 2,
      "outputs": [
        {
          "output_type": "execute_result",
          "data": {
            "text/plain": [
              "'HELLO'"
            ],
            "application/vnd.google.colaboratory.intrinsic+json": {
              "type": "string"
            }
          },
          "metadata": {},
          "execution_count": 2
        }
      ]
    },
    {
      "cell_type": "markdown",
      "source": [
        "Write a code to replace the word \"apple\" with \"orange\" in the string \"I like apple\""
      ],
      "metadata": {
        "id": "q33to6wF8-hR"
      }
    },
    {
      "cell_type": "code",
      "source": [
        "fruit = \"I like apple\"\n",
        "fruit.replace(\"apple\",\"orange\")"
      ],
      "metadata": {
        "colab": {
          "base_uri": "https://localhost:8080/",
          "height": 35
        },
        "id": "2uIxRVht8_zN",
        "outputId": "83850370-3a80-4f22-eeff-2afa02ace530"
      },
      "execution_count": 3,
      "outputs": [
        {
          "output_type": "execute_result",
          "data": {
            "text/plain": [
              "'I like orange'"
            ],
            "application/vnd.google.colaboratory.intrinsic+json": {
              "type": "string"
            }
          },
          "metadata": {},
          "execution_count": 3
        }
      ]
    },
    {
      "cell_type": "markdown",
      "source": [
        "Write a code to create a list with numbers 1 to 5 and print it?"
      ],
      "metadata": {
        "id": "3XKWHqPr9RDU"
      }
    },
    {
      "cell_type": "code",
      "source": [
        "num = [1,2,3,4,5]\n",
        "print(num)"
      ],
      "metadata": {
        "colab": {
          "base_uri": "https://localhost:8080/"
        },
        "id": "9iCnOFIk9Ug9",
        "outputId": "a42af12b-9a90-46e2-af3b-959dfd988d2b"
      },
      "execution_count": 4,
      "outputs": [
        {
          "output_type": "stream",
          "name": "stdout",
          "text": [
            "[1, 2, 3, 4, 5]\n"
          ]
        }
      ]
    },
    {
      "cell_type": "markdown",
      "source": [
        "Write a code to append the number 10 to the list [1, 2, 3, 4]?\n"
      ],
      "metadata": {
        "id": "Jo0hlxFN9fMn"
      }
    },
    {
      "cell_type": "code",
      "source": [
        "num = [1,2,3,4]\n",
        "num.append(10)\n",
        "print(num)"
      ],
      "metadata": {
        "colab": {
          "base_uri": "https://localhost:8080/"
        },
        "id": "fSz0D0HU9wB2",
        "outputId": "790c7f91-7355-4d59-b574-2d7b79a80bf3"
      },
      "execution_count": 10,
      "outputs": [
        {
          "output_type": "stream",
          "name": "stdout",
          "text": [
            "[1, 2, 3, 4, 10]\n"
          ]
        }
      ]
    },
    {
      "cell_type": "markdown",
      "source": [
        " Write a code to remove the number 3 from the list [1, 2, 3, 4, 5]"
      ],
      "metadata": {
        "id": "dQpfkQVh966y"
      }
    },
    {
      "cell_type": "code",
      "source": [
        "num = [1,2,3,4,5]\n",
        "num.remove(3)\n",
        "print(num)"
      ],
      "metadata": {
        "colab": {
          "base_uri": "https://localhost:8080/"
        },
        "id": "igfJRXRL-Vhx",
        "outputId": "1d576cac-cca2-4b94-f091-e83978b678bc"
      },
      "execution_count": 1,
      "outputs": [
        {
          "output_type": "stream",
          "name": "stdout",
          "text": [
            "[1, 2, 4, 5]\n"
          ]
        }
      ]
    },
    {
      "cell_type": "markdown",
      "source": [
        " Write a code to access the second element in the list ['a', 'b', 'c', 'd']"
      ],
      "metadata": {
        "id": "IW6mItcl4rCl"
      }
    },
    {
      "cell_type": "code",
      "source": [
        "lis = ['a','b'],['c','d']\n",
        "lis[0][1]"
      ],
      "metadata": {
        "colab": {
          "base_uri": "https://localhost:8080/",
          "height": 35
        },
        "id": "JzxaZQzU4spl",
        "outputId": "af9955ca-bc83-4d70-efc8-fa7765111861"
      },
      "execution_count": 4,
      "outputs": [
        {
          "output_type": "execute_result",
          "data": {
            "text/plain": [
              "'b'"
            ],
            "application/vnd.google.colaboratory.intrinsic+json": {
              "type": "string"
            }
          },
          "metadata": {},
          "execution_count": 4
        }
      ]
    },
    {
      "cell_type": "markdown",
      "source": [
        " Write a code to reverse the list [10, 20, 30, 40, 50]."
      ],
      "metadata": {
        "id": "ZzeN77QNBKud"
      }
    },
    {
      "cell_type": "code",
      "source": [
        "code =  [10, 20, 30, 40, 50]\n",
        "code.reverse()\n",
        "print(code)"
      ],
      "metadata": {
        "colab": {
          "base_uri": "https://localhost:8080/"
        },
        "id": "VFmBCcLGBpS7",
        "outputId": "a74aea49-7759-49b1-cc8b-c31a30528920"
      },
      "execution_count": 8,
      "outputs": [
        {
          "output_type": "stream",
          "name": "stdout",
          "text": [
            "[50, 40, 30, 20, 10]\n"
          ]
        }
      ]
    },
    {
      "cell_type": "markdown",
      "source": [
        " Write a code to create a tuple with the elements 100, 200, 300 and print it."
      ],
      "metadata": {
        "id": "fLn59aeZBw2n"
      }
    },
    {
      "cell_type": "code",
      "source": [
        "code = (100,200,300)\n",
        "print(code)"
      ],
      "metadata": {
        "colab": {
          "base_uri": "https://localhost:8080/"
        },
        "id": "oaGx1lOhCBYT",
        "outputId": "effa3aef-14ed-4f2b-8c8d-06490fcf0c5f"
      },
      "execution_count": 9,
      "outputs": [
        {
          "output_type": "stream",
          "name": "stdout",
          "text": [
            "(100, 200, 300)\n"
          ]
        }
      ]
    },
    {
      "cell_type": "code",
      "source": [
        "type(code)"
      ],
      "metadata": {
        "colab": {
          "base_uri": "https://localhost:8080/"
        },
        "id": "R1TtnD3pCSeC",
        "outputId": "a445fe8b-6d6d-48ac-fc46-fe82bff619b3"
      },
      "execution_count": 10,
      "outputs": [
        {
          "output_type": "execute_result",
          "data": {
            "text/plain": [
              "tuple"
            ]
          },
          "metadata": {},
          "execution_count": 10
        }
      ]
    },
    {
      "cell_type": "markdown",
      "source": [
        "Write a code to access the second-to-last element of the tuple ('red', 'green', 'blue', 'yellow')"
      ],
      "metadata": {
        "id": "EfqjzxCoChls"
      }
    },
    {
      "cell_type": "code",
      "source": [
        "code =  ('red', 'green', 'blue', 'yellow')\n",
        "code[1:4]\n"
      ],
      "metadata": {
        "colab": {
          "base_uri": "https://localhost:8080/"
        },
        "id": "aOwomc8_ClEM",
        "outputId": "c2b9116b-7c74-4464-fc23-04618c9c30af"
      },
      "execution_count": 12,
      "outputs": [
        {
          "output_type": "execute_result",
          "data": {
            "text/plain": [
              "('green', 'blue', 'yellow')"
            ]
          },
          "metadata": {},
          "execution_count": 12
        }
      ]
    },
    {
      "cell_type": "markdown",
      "source": [
        ". Write a code to find the minimum number in the tuple (10, 20, 5, 15)."
      ],
      "metadata": {
        "id": "cdBQRauvDqWE"
      }
    },
    {
      "cell_type": "code",
      "source": [
        "code =  (10, 20, 5, 15)\n",
        "min(code)\n",
        "\n"
      ],
      "metadata": {
        "colab": {
          "base_uri": "https://localhost:8080/"
        },
        "id": "8MBKeTymDpb9",
        "outputId": "874e68e9-25fd-4c66-c545-9550b6d73e70"
      },
      "execution_count": 15,
      "outputs": [
        {
          "output_type": "execute_result",
          "data": {
            "text/plain": [
              "5"
            ]
          },
          "metadata": {},
          "execution_count": 15
        }
      ]
    },
    {
      "cell_type": "markdown",
      "source": [
        ". Write a code to find the index of the element \"cat\" in the tuple ('dog', 'cat', 'rabbit').\n"
      ],
      "metadata": {
        "id": "CRLZDVfiEU4-"
      }
    },
    {
      "cell_type": "code",
      "source": [
        "t = ('dog', 'cat', 'rabbit')\n",
        "t.index('cat')"
      ],
      "metadata": {
        "colab": {
          "base_uri": "https://localhost:8080/"
        },
        "id": "K_5rAgakEWk-",
        "outputId": "d24cc52f-767e-457e-c65d-7e9cb9b946fc"
      },
      "execution_count": 18,
      "outputs": [
        {
          "output_type": "execute_result",
          "data": {
            "text/plain": [
              "1"
            ]
          },
          "metadata": {},
          "execution_count": 18
        }
      ]
    },
    {
      "cell_type": "markdown",
      "source": [
        ". Write a code to create a tuple containing three different fruits and check if \"kiwi\" is in it."
      ],
      "metadata": {
        "id": "i5crfvEaEwEq"
      }
    },
    {
      "cell_type": "code",
      "source": [
        "fruits = (\"apple\", \"banana\", \"cherry\")\n",
        "if \"kiwi\" in fruits:\n",
        "  print(\"Yes, 'kiwi' is in the fruits tuple\")\n",
        "else:\n",
        "  print(\"no,'kiwi'is not in the fruits\")\n",
        ""
      ],
      "metadata": {
        "colab": {
          "base_uri": "https://localhost:8080/"
        },
        "id": "6fM9CcdyE4_i",
        "outputId": "a8ce1d6c-b6c8-4261-859f-b12be8f7394f"
      },
      "execution_count": 20,
      "outputs": [
        {
          "output_type": "stream",
          "name": "stdout",
          "text": [
            "no,'kiwi'is not in the fruits\n"
          ]
        }
      ]
    },
    {
      "cell_type": "markdown",
      "source": [
        ". Write a code to create a set with the elements 'a', 'b', 'c' and print it."
      ],
      "metadata": {
        "id": "LdHg4T6yFunP"
      }
    },
    {
      "cell_type": "code",
      "source": [
        "s = {'a','b','c'}\n",
        "print(s)"
      ],
      "metadata": {
        "colab": {
          "base_uri": "https://localhost:8080/"
        },
        "id": "i_MfCNaoFvuQ",
        "outputId": "a832d6f7-b821-4f47-bfaa-6e4508fd9a4d"
      },
      "execution_count": 21,
      "outputs": [
        {
          "output_type": "stream",
          "name": "stdout",
          "text": [
            "{'b', 'c', 'a'}\n"
          ]
        }
      ]
    },
    {
      "cell_type": "markdown",
      "source": [
        " Write a code to clear all elements from the set {1, 2, 3, 4, 5}"
      ],
      "metadata": {
        "id": "EBpQu0BdF5Cz"
      }
    },
    {
      "cell_type": "code",
      "source": [
        "s = {1, 2, 3, 4, 5}\n",
        "s.clear()\n",
        "print(s)"
      ],
      "metadata": {
        "colab": {
          "base_uri": "https://localhost:8080/"
        },
        "id": "2qFzDpCBF-ip",
        "outputId": "c333851b-a613-4e1e-baa3-24706bbac6fc"
      },
      "execution_count": 22,
      "outputs": [
        {
          "output_type": "stream",
          "name": "stdout",
          "text": [
            "set()\n"
          ]
        }
      ]
    },
    {
      "cell_type": "markdown",
      "source": [
        " Write a code to remove the element 4 from the set {1, 2, 3, 4}"
      ],
      "metadata": {
        "id": "mCmeTg--GG2N"
      }
    },
    {
      "cell_type": "code",
      "source": [
        "s = {1, 2, 3, 4}\n",
        "s.remove(4)\n",
        "print(s)"
      ],
      "metadata": {
        "colab": {
          "base_uri": "https://localhost:8080/"
        },
        "id": "NgVmYCUvGIGb",
        "outputId": "9b6f4f5c-fd77-4788-82fb-a55655116224"
      },
      "execution_count": 23,
      "outputs": [
        {
          "output_type": "stream",
          "name": "stdout",
          "text": [
            "{1, 2, 3}\n"
          ]
        }
      ]
    },
    {
      "cell_type": "markdown",
      "source": [
        "9. Write a code to find the union of two sets {1, 2, 3} and {3, 4, 5}."
      ],
      "metadata": {
        "id": "UonEQ-k1GOHR"
      }
    },
    {
      "cell_type": "code",
      "source": [
        "s = {1, 2, 3}\n",
        "s1 = {3, 4, 5}\n",
        "s.union(s1)"
      ],
      "metadata": {
        "colab": {
          "base_uri": "https://localhost:8080/"
        },
        "id": "GDq4CHT5G9fo",
        "outputId": "0ebbc3b4-e2ce-41ae-adcf-ac29ba548ec4"
      },
      "execution_count": 24,
      "outputs": [
        {
          "output_type": "execute_result",
          "data": {
            "text/plain": [
              "{1, 2, 3, 4, 5}"
            ]
          },
          "metadata": {},
          "execution_count": 24
        }
      ]
    },
    {
      "cell_type": "markdown",
      "source": [
        "Write a code to find the intersection of two sets {1, 2, 3} and {2, 3, 4}"
      ],
      "metadata": {
        "id": "ks7xe8nEHGEj"
      }
    },
    {
      "cell_type": "code",
      "source": [
        "s = {1, 2, 3}\n",
        "s1 = {2, 3, 4}\n",
        "s.intersection(s1)"
      ],
      "metadata": {
        "colab": {
          "base_uri": "https://localhost:8080/"
        },
        "id": "vlqHH59zHHEM",
        "outputId": "540c9aca-e8e5-4d5b-eb12-159cad16a286"
      },
      "execution_count": 25,
      "outputs": [
        {
          "output_type": "execute_result",
          "data": {
            "text/plain": [
              "{2, 3}"
            ]
          },
          "metadata": {},
          "execution_count": 25
        }
      ]
    },
    {
      "cell_type": "markdown",
      "source": [
        " Write a code to create a dictionary with the keys \"name\", \"age\", and \"city\", and print it\n",
        ""
      ],
      "metadata": {
        "id": "rug5Tcq4HVAa"
      }
    },
    {
      "cell_type": "code",
      "source": [
        "d = {\"name\":\"deepak\",\"age\":22,\"city\":\"patna\"}\n",
        "print(d)"
      ],
      "metadata": {
        "colab": {
          "base_uri": "https://localhost:8080/"
        },
        "id": "e7yVZ92KHWqA",
        "outputId": "13757b8f-f2ba-495f-c2d1-b0ef87c0358e"
      },
      "execution_count": 26,
      "outputs": [
        {
          "output_type": "stream",
          "name": "stdout",
          "text": [
            "{'name': 'deepak', 'age': 22, 'city': 'patna'}\n"
          ]
        }
      ]
    },
    {
      "cell_type": "markdown",
      "source": [
        "22. Write a code to add a new key-value pair \"country\": \"USA\" to the dictionary {'name': 'John', 'age': 25}."
      ],
      "metadata": {
        "id": "cGHZhSe7IAOn"
      }
    },
    {
      "cell_type": "code",
      "source": [
        "d = {'name': 'John', 'age': 25}\n",
        "d['country']= \"USA\"\n",
        "print(d)"
      ],
      "metadata": {
        "colab": {
          "base_uri": "https://localhost:8080/"
        },
        "id": "X0Fz6uc4ItiQ",
        "outputId": "6f3ea7c1-724a-412a-bbff-369cd4d031aa"
      },
      "execution_count": 31,
      "outputs": [
        {
          "output_type": "stream",
          "name": "stdout",
          "text": [
            "{'name': 'John', 'age': 25, 'country': 'USA'}\n"
          ]
        }
      ]
    },
    {
      "cell_type": "markdown",
      "source": [
        " Write a code to access the value associated with the key \"name\" in the dictionary {'name': 'Alice', 'age': 30}"
      ],
      "metadata": {
        "id": "j7NEIMlaI30i"
      }
    },
    {
      "cell_type": "code",
      "source": [
        "d = {'name': 'Alice', 'age': 30}\n",
        "d['name']\n",
        "#"
      ],
      "metadata": {
        "colab": {
          "base_uri": "https://localhost:8080/",
          "height": 35
        },
        "id": "RZzBoKXsI--M",
        "outputId": "40db95e3-0150-4cc3-a940-8c1f5008c8dc"
      },
      "execution_count": 2,
      "outputs": [
        {
          "output_type": "execute_result",
          "data": {
            "text/plain": [
              "'Alice'"
            ],
            "application/vnd.google.colaboratory.intrinsic+json": {
              "type": "string"
            }
          },
          "metadata": {},
          "execution_count": 2
        }
      ]
    },
    {
      "cell_type": "markdown",
      "source": [
        " Write a code to remove the key \"age\" from the dictionary {'name': 'Bob', 'age': 22, 'city': 'New York'}"
      ],
      "metadata": {
        "id": "tXG_crTSvF2J"
      }
    },
    {
      "cell_type": "code",
      "source": [
        "d = {'name': 'Bob', 'age': 22, 'city': 'New York'}\n",
        "del d['age']\n",
        "print(d)\n"
      ],
      "metadata": {
        "colab": {
          "base_uri": "https://localhost:8080/"
        },
        "id": "fZwIzkyJvI4-",
        "outputId": "d3a7b477-abee-4860-d537-cbc201341ee9"
      },
      "execution_count": 7,
      "outputs": [
        {
          "output_type": "stream",
          "name": "stdout",
          "text": [
            "{'name': 'Bob', 'city': 'New York'}\n"
          ]
        }
      ]
    },
    {
      "cell_type": "markdown",
      "source": [
        "Write a code to check if the key \"city\" exists in the dictionary {'name': 'Alice', 'city': 'Paris'}"
      ],
      "metadata": {
        "id": "9PZdJqOUvI8l"
      }
    },
    {
      "cell_type": "code",
      "source": [
        "d = {'name': 'Alice', 'city': 'Paris'}\n",
        "if 'city' in d:\n",
        "  print(\"Yes, 'city' is one of the keys in the dictionary\")\n",
        "else:\n",
        "  print(\"no,'city' is not one of the keys in the dictionary\")"
      ],
      "metadata": {
        "colab": {
          "base_uri": "https://localhost:8080/"
        },
        "id": "6Dc0rk0gvHMj",
        "outputId": "536c8b60-69ca-4df1-ceb7-05775d03359d"
      },
      "execution_count": 8,
      "outputs": [
        {
          "output_type": "stream",
          "name": "stdout",
          "text": [
            "Yes, 'city' is one of the keys in the dictionary\n"
          ]
        }
      ]
    },
    {
      "cell_type": "markdown",
      "source": [
        ". Write a code to create a list, a tuple, and a dictionary, and print them all"
      ],
      "metadata": {
        "id": "46aekhDOwQQk"
      }
    },
    {
      "cell_type": "code",
      "source": [
        "code1 = {'name': 'Alice', 'city': 'Paris'}\n",
        "code2 = (1,2,3,4)\n",
        "code3 = [1,2,3,4]\n",
        "print(code1)\n",
        "print(code2)\n",
        "print(code3)"
      ],
      "metadata": {
        "colab": {
          "base_uri": "https://localhost:8080/"
        },
        "id": "cja9P33awR0J",
        "outputId": "e1ef26a7-c70e-4aba-d800-96c9bff85d73"
      },
      "execution_count": 9,
      "outputs": [
        {
          "output_type": "stream",
          "name": "stdout",
          "text": [
            "{'name': 'Alice', 'city': 'Paris'}\n",
            "(1, 2, 3, 4)\n",
            "[1, 2, 3, 4]\n"
          ]
        }
      ]
    },
    {
      "cell_type": "markdown",
      "source": [
        " Write a code to create a list of 5 random numbers between 1 and 100, sort it in ascending order, and print the\n",
        "result.(replaced)"
      ],
      "metadata": {
        "id": "6s96BirdxDjn"
      }
    },
    {
      "cell_type": "code",
      "source": [
        "l = [1,2,3,4,5]\n",
        "l.sort()\n",
        "print(l)"
      ],
      "metadata": {
        "colab": {
          "base_uri": "https://localhost:8080/"
        },
        "id": "6su4fNTUxFF2",
        "outputId": "ec707a61-7f45-4d38-fb9a-518b22dbdeb7"
      },
      "execution_count": 10,
      "outputs": [
        {
          "output_type": "stream",
          "name": "stdout",
          "text": [
            "[1, 2, 3, 4, 5]\n"
          ]
        }
      ]
    },
    {
      "cell_type": "markdown",
      "source": [
        " Write a code to create a list with strings and print the element at the third index."
      ],
      "metadata": {
        "id": "JDU8akTEyeK_"
      }
    },
    {
      "cell_type": "code",
      "source": [
        "l = [\"ajay\",\"bijay\",\"ramesh\",\"ganesh\"]\n",
        "l[3]\n",
        ""
      ],
      "metadata": {
        "colab": {
          "base_uri": "https://localhost:8080/",
          "height": 35
        },
        "id": "JeALr-8PyfV5",
        "outputId": "c7babff7-d479-4d5d-8b69-521b5fec8ec6"
      },
      "execution_count": 11,
      "outputs": [
        {
          "output_type": "execute_result",
          "data": {
            "text/plain": [
              "'ganesh'"
            ],
            "application/vnd.google.colaboratory.intrinsic+json": {
              "type": "string"
            }
          },
          "metadata": {},
          "execution_count": 11
        }
      ]
    },
    {
      "cell_type": "markdown",
      "source": [
        ". Write a code to combine two dictionaries into one and print the result."
      ],
      "metadata": {
        "id": "Nm7obQYkzSh5"
      }
    },
    {
      "cell_type": "code",
      "source": [
        "d = {'name': 'Alice', 'city': 'Paris'}\n",
        "d1 = {'name': 'Bob', 'age': 22, 'city': 'New York'}\n",
        "d.update(d1)\n",
        "print(d)"
      ],
      "metadata": {
        "colab": {
          "base_uri": "https://localhost:8080/"
        },
        "id": "qZiHRM6fzTcn",
        "outputId": "8a1610e9-55ea-4694-d3ae-45f927059cc0"
      },
      "execution_count": 12,
      "outputs": [
        {
          "output_type": "stream",
          "name": "stdout",
          "text": [
            "{'name': 'Bob', 'city': 'New York', 'age': 22}\n"
          ]
        }
      ]
    },
    {
      "cell_type": "markdown",
      "source": [
        ". Write a code to convert a list of strings into a set"
      ],
      "metadata": {
        "id": "LKCQto1Vz2Rt"
      }
    },
    {
      "cell_type": "code",
      "source": [
        "l = [1,2,3,4,5,\"ajay\"]\n",
        "l = set(l)\n",
        "print(l)"
      ],
      "metadata": {
        "colab": {
          "base_uri": "https://localhost:8080/"
        },
        "id": "aS9oKQ610tFh",
        "outputId": "a2511600-dce8-4922-a076-72bea76d085c"
      },
      "execution_count": 19,
      "outputs": [
        {
          "output_type": "stream",
          "name": "stdout",
          "text": [
            "{1, 2, 3, 4, 5, 'ajay'}\n"
          ]
        }
      ]
    }
  ]
}